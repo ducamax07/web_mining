{
 "cells": [
  {
   "cell_type": "markdown",
   "metadata": {},
   "source": [
    "# Links Analysis"
   ]
  },
  {
   "cell_type": "markdown",
   "metadata": {},
   "source": [
    "### Configuration"
   ]
  },
  {
   "cell_type": "code",
   "execution_count": 86,
   "metadata": {},
   "outputs": [],
   "source": [
    "from networkx import hits\n",
    "import numpy as np\n",
    "import networkx as nx\n",
    "import pandas as pd\n",
    "from sklearn.preprocessing import MinMaxScaler"
   ]
  },
  {
   "cell_type": "markdown",
   "metadata": {},
   "source": [
    "Créer les repertoires"
   ]
  },
  {
   "cell_type": "code",
   "execution_count": null,
   "metadata": {},
   "outputs": [],
   "source": [
    "def creer_repertoires():\n",
    "    reps = ['output', 'output/clusters', 'cluster_links', 'outputgml', 'outputLA']\n",
    "    for rep in reps:\n",
    "        os.makedirs(rep, exist_ok=True)\n",
    "    print(\"Répertoires crées.\")\n",
    "\n",
    "# Call the function to create the directories\n",
    "creer_repertoires()"
   ]
  },
  {
   "cell_type": "markdown",
   "metadata": {},
   "source": [
    "### Fonctions"
   ]
  },
  {
   "cell_type": "markdown",
   "metadata": {},
   "source": [
    "Matrice d'adjacence"
   ]
  },
  {
   "cell_type": "code",
   "execution_count": 131,
   "metadata": {},
   "outputs": [],
   "source": [
    "def create_numpy_adjacency_matrix(gml_file):\n",
    "    with open(gml_file, 'r', encoding='utf-8') as f:\n",
    "        graph = nx.parse_gml(f)  # Utilisez parse_gml() au lieu de read_gml()\n",
    "    adjacency_matrix = nx.to_numpy_array(graph)\n",
    "    return adjacency_matrix, list(graph.nodes())"
   ]
  },
  {
   "cell_type": "markdown",
   "metadata": {},
   "source": [
    "Voisins communs"
   ]
  },
  {
   "cell_type": "code",
   "execution_count": 132,
   "metadata": {},
   "outputs": [],
   "source": [
    "def voisins_communs(matrix):\n",
    "    voisins = np.zeros(matrix.shape)\n",
    "    for i in range(len(matrix)):\n",
    "        for j in range(len(matrix)):\n",
    "            voisins[i, j] = np.sum(np.multiply(matrix[i, :], matrix[j, :]))\n",
    "    return voisins"
   ]
  },
  {
   "cell_type": "markdown",
   "metadata": {},
   "source": [
    "Matrice d'attachement préférentiel"
   ]
  },
  {
   "cell_type": "code",
   "execution_count": 133,
   "metadata": {},
   "outputs": [],
   "source": [
    "def preferential_attachement(matrix):\n",
    "    degrees = np.sum(matrix, axis=1)\n",
    "    pref_attach = np.zeros(matrix.shape) \n",
    "    # Parcourir les paires de nœuds\n",
    "    for i in range(len(matrix)):\n",
    "        for j in range(len(matrix)):\n",
    "            # L'attachement préférentiel entre deux nœuds est le produit de leurs degrés\n",
    "            pref_attach[i, j] = degrees[i] * degrees[j]\n",
    "    return pref_attach "
   ]
  },
  {
   "cell_type": "markdown",
   "metadata": {},
   "source": [
    "Matrice de similarité par cosinus"
   ]
  },
  {
   "cell_type": "code",
   "execution_count": 134,
   "metadata": {},
   "outputs": [],
   "source": [
    "def cosine_similarity(matrix):\n",
    "    cosine_sim = np.zeros(matrix.shape)\n",
    "    # parcourir les paires\n",
    "    for i in range(len(matrix)):\n",
    "        for j in range(len(matrix)):\n",
    "            # produits scalaire des 2 vecteurs i, j\n",
    "            dot_product = np.dot(matrix[i, :], matrix[j, :])\n",
    "            # normalisation des vecteurs\n",
    "            norm_i = np.linalg.norm(matrix[i, :])\n",
    "            norm_j = np.linalg.norm(matrix[j, :])         \n",
    "            # similarité cosinus\n",
    "            if norm_i > 0 and norm_j > 0:\n",
    "                cosine_sim[i, j] = dot_product / (norm_i * norm_j)\n",
    "            else:\n",
    "                cosine_sim[i, j] = 0  # gestion des vecteurs nuls\n",
    "    return cosine_sim"
   ]
  },
  {
   "cell_type": "markdown",
   "metadata": {},
   "source": [
    "Matrice de similarité par Jaccard"
   ]
  },
  {
   "cell_type": "code",
   "execution_count": 135,
   "metadata": {},
   "outputs": [],
   "source": [
    "def jaccard_similarity(matrix):\n",
    "    n = matrix.shape[0]  # définir le nbre de noeud\n",
    "    degrees = np.sum(matrix, axis=1)  # définir leur degré\n",
    "    sim_common = np.dot(matrix, matrix.T)  # nbre de voisins communs par noeud\n",
    "    sim_jac = np.zeros((n, n))  \n",
    "    for i in range(n):\n",
    "        for k in range(n):\n",
    "            # Jaccard application\n",
    "            denominator = degrees[i] + degrees[k] - sim_common[i, k]\n",
    "            if denominator > 0:\n",
    "                sim_jac[i, k] = sim_common[i, k] / denominator\n",
    "            else:\n",
    "                sim_jac[i, k] = 0   \n",
    "    return sim_jac"
   ]
  },
  {
   "cell_type": "code",
   "execution_count": 136,
   "metadata": {},
   "outputs": [],
   "source": [
    "def top_20_jaccard_relations(matrix, nodes):\n",
    "    relations = []\n",
    "    for i in range(len(matrix)):\n",
    "        for j in range(len(matrix)):\n",
    "            if i != j and matrix[i, j] < 0.65:\n",
    "                relations.append((nodes[i], nodes[j], matrix[i, j]))\n",
    "    # Trier ordre decroissant\n",
    "    relations = sorted(relations, key=lambda x: x[2], reverse=True)\n",
    "    top_20 = relations[:20]\n",
    "    \n",
    "    return top_20"
   ]
  },
  {
   "cell_type": "markdown",
   "metadata": {},
   "source": [
    "Matrice de Katz"
   ]
  },
  {
   "cell_type": "code",
   "execution_count": 137,
   "metadata": {},
   "outputs": [],
   "source": [
    "def Katz(graph, alpha):\n",
    "    A = graph\n",
    "    n = A.shape[0] # nombre de noeuds\n",
    "    I = np.identity(n) # matrice identité\n",
    "    Katz = np.linalg.inv(I - alpha*A) - I # matrice de Katz, on calcule d'abord l'inverse de I - alpha*A puis on soustrait I\n",
    "    print(f\"Ceci est la matrice de Katz :\\n {Katz}\\n\")\n",
    "    return Katz"
   ]
  },
  {
   "cell_type": "markdown",
   "metadata": {},
   "source": [
    "Afficher les noeuds avec un score Katz élevé"
   ]
  },
  {
   "cell_type": "code",
   "execution_count": 138,
   "metadata": {},
   "outputs": [],
   "source": [
    "def indirect_influencers(adjacency_matrix, katz_matrix):\n",
    "    degree = np.sum(adjacency_matrix, axis=1)\n",
    "    katz_scores = np.sum(katz_matrix, axis=1)\n",
    "    \n",
    "    # normalisation des vecteurs pour les comparer à echelle égale\n",
    "    scaler = MinMaxScaler()\n",
    "    scaled_deg = scaler.fit_transform(degree.reshape(-1, 1))\n",
    "    scaled_katz = scaler.fit_transform(katz_scores.reshape(-1, 1))\n",
    "    # ecart d'influecne entre les vecteurs\n",
    "    influencers_gap = scaled_katz - scaled_deg\n",
    "    # identification des top vecteurs\n",
    "    indirect_influencers = np.where((scaled_deg < 0.3) & (scaled_katz > 0.4))[0]\n",
    "    \n",
    "    return indirect_influencers, influencers_gap"
   ]
  },
  {
   "cell_type": "markdown",
   "metadata": {},
   "source": [
    "Probabilité de transition matrice"
   ]
  },
  {
   "cell_type": "code",
   "execution_count": 139,
   "metadata": {},
   "outputs": [],
   "source": [
    "def transition_proba(graph):\n",
    "    A = graph\n",
    "    n = A.shape[0] # nombre de noeuds\n",
    "    degrees = [sum(A[i]) for i in range(n)] # degré de chaque noeud\n",
    "    transition_graph = np.zeros((n,n))\n",
    "    \"\"\"\n",
    "    au début je n'avais pas mis (transition_graph) mais c'est nécessaire sinon on modifie la matrice A pendant\n",
    "    le calcul et on obtient un matrice null -- OK\n",
    "    \"\"\"\n",
    "\n",
    "    #Calculer la matrice de transition\n",
    "    for i in range(len(A)):\n",
    "        for k in range(len(A)):\n",
    "            transition_graph[i,k] = A[i,k]/degrees[i]\n",
    "    return transition_graph"
   ]
  },
  {
   "cell_type": "markdown",
   "metadata": {},
   "source": [
    "Matrice des probas de transition avec ID en etiquettes"
   ]
  },
  {
   "cell_type": "code",
   "execution_count": 145,
   "metadata": {},
   "outputs": [],
   "source": [
    "def trans_proba_with_id(graph, adjacency_matrix):\n",
    "    nodes=list(graph.nodes)\n",
    "    degrees = np.sum(adjacency_matrix, axis=1) #degrés sortants\n",
    "\n",
    "    transition_matrix = np.zeros(adjacency_matrix.shape)\n",
    "    for i in range(adjacency_matrix.shape[0]):\n",
    "        if degrees[i] > 0: #pas diviser par 0\n",
    "            transition_matrix[i, :] = adjacency_matrix[i, :] / degrees[i]\n",
    "\n",
    "    edges = []\n",
    "    for i in range(len(nodes)):\n",
    "        for j in range(len(nodes)):\n",
    "            if transition_matrix[i, j] > 0: \n",
    "                edges.append([i, j, transition_matrix[i, j]]) #utiliser les ind comme IDS\n",
    "\n",
    "    #dataframe pour export facile\n",
    "    df_edges = pd.DataFrame(edges, columns=['Source', 'Target', 'Weight'])\n",
    "    df_edges.to_csv('outputLA/trans_proba_with_IDs.csv', index=False, encoding='utf-8')\n",
    "\n",
    "    print(\"Exporté : trans_proba_with_IDs.csv\")"
   ]
  },
  {
   "cell_type": "markdown",
   "metadata": {},
   "source": [
    "Matrice FPT et CT"
   ]
  },
  {
   "cell_type": "code",
   "execution_count": 141,
   "metadata": {},
   "outputs": [],
   "source": [
    "def matrice_FPT_et_CT(transition_matrix):\n",
    "\tn = transition_matrix.shape[0]\n",
    "\tFPT = np.zeros((n, n))\n",
    "\tCT = np.zeros((n, n))\n",
    "\t\n",
    "\tfor i in range(n):\n",
    "\t\tfor j in range(n):\n",
    "\t\t\tif i != j:\n",
    "\t\t\t\tFPT[i, j] = 1 / transition_matrix[i, j] if transition_matrix[i, j] != 0 else np.inf\n",
    "\t\t\t\tCT[i, j] = FPT[i, j] + FPT[j, i]\n",
    "\t\n",
    "\treturn FPT, CT"
   ]
  },
  {
   "cell_type": "code",
   "execution_count": 142,
   "metadata": {},
   "outputs": [],
   "source": [
    "def fpt_ct_between_nodes(FPT, CT, node1, node2):\n",
    "\n",
    "    fpt_value = FPT[node1, node2]\n",
    "    ct_value = CT[node1, node2]\n",
    "    \n",
    "    return fpt_value, ct_value"
   ]
  },
  {
   "cell_type": "markdown",
   "metadata": {},
   "source": [
    "Score Hub"
   ]
  },
  {
   "cell_type": "code",
   "execution_count": 143,
   "metadata": {},
   "outputs": [],
   "source": [
    "def scores_Hub_Authority(graph):\n",
    "    # Calculer les scores HITS\n",
    "    hub_scores, authority_scores = nx.hits(graph)\n",
    "    \n",
    "    # Afficher les résultats\n",
    "    print(f\"Ceci est le score de Hub :\\n {hub_scores}\\n\")\n",
    "    return hub_scores, authority_scores"
   ]
  },
  {
   "cell_type": "markdown",
   "metadata": {},
   "source": [
    "### Applications"
   ]
  },
  {
   "cell_type": "code",
   "execution_count": 130,
   "metadata": {},
   "outputs": [],
   "source": [
    "gml_file = 'outputgml/graph.gml'\n",
    "\n",
    "#créer la matrice d'adjacence\n",
    "adjacency_matrix, nodes = create_numpy_adjacency_matrix(gml_file)\n",
    "np.savetxt('outputLA/adjacency_matrix.txt', adjacency_matrix)"
   ]
  },
  {
   "cell_type": "code",
   "execution_count": null,
   "metadata": {},
   "outputs": [],
   "source": [
    "common_neighbors = voisins_communs(adjacency_matrix)\n",
    "print(common_neighbors)\n",
    "np.savetxt('outputLA/common_neighbors_matrix.txt', common_neighbors)"
   ]
  },
  {
   "cell_type": "code",
   "execution_count": null,
   "metadata": {},
   "outputs": [],
   "source": [
    "cosine_sim = cosine_similarity(adjacency_matrix)\n",
    "print(cosine_sim)\n",
    "np.savetxt('outputLA/cosine_similarity_matrix.txt', cosine_sim)"
   ]
  },
  {
   "cell_type": "code",
   "execution_count": null,
   "metadata": {},
   "outputs": [],
   "source": [
    "jaccard_sim = jaccard_similarity(adjacency_matrix)\n",
    "print(jaccard_sim)\n",
    "np.savetxt('outputLA/jaccard_similarity_matrix.txt', jaccard_sim)"
   ]
  },
  {
   "cell_type": "code",
   "execution_count": null,
   "metadata": {},
   "outputs": [],
   "source": [
    "# Charger la matrice de similarité Jaccard depuis le fichier\n",
    "jaccard_sim_matrix = np.loadtxt(\"outputLA/jaccard_similarity_matrix.txt\")\n",
    "\n",
    "#affiche les 20 plus grands résultats inférieur à un seuil prédifinis (sinon on a des doublons)\n",
    "top_20_jaccard = top_20_jaccard_relations(jaccard_sim_matrix, nodes)\n",
    "for relation in top_20_jaccard:\n",
    "    print(relation)"
   ]
  },
  {
   "cell_type": "code",
   "execution_count": null,
   "metadata": {},
   "outputs": [],
   "source": [
    "alpha = 0.1\n",
    "katz_matrix = Katz(adjacency_matrix, alpha)\n",
    "np.savetxt('outputLA/katz_matrix.txt', katz_matrix)"
   ]
  },
  {
   "cell_type": "code",
   "execution_count": null,
   "metadata": {},
   "outputs": [],
   "source": [
    "adjacency_matrix = np.loadtxt('outputLA/adjacency_matrix.txt')\n",
    "katz_matrix = np.loadtxt('outputLA/katz_matrix.txt')\n",
    "degree = np.sum(adjacency_matrix, axis=1) \n",
    "katz_scores = np.sum(katz_matrix, axis=1) \n",
    "indirect_influencers, influence_gap = indirect_influencers(adjacency_matrix, katz_matrix)\n",
    "\n",
    "print(\"Nœuds avec une forte influence indirecte :\", indirect_influencers)\n"
   ]
  },
  {
   "cell_type": "code",
   "execution_count": null,
   "metadata": {},
   "outputs": [],
   "source": [
    "pref_attach = preferential_attachement(adjacency_matrix)\n",
    "print(pref_attach)\n",
    "np.savetxt('outputLA/preferential_attachment_matrix.txt', pref_attach)"
   ]
  },
  {
   "cell_type": "code",
   "execution_count": null,
   "metadata": {},
   "outputs": [],
   "source": [
    "transition_graph = transition_proba(adjacency_matrix)\n",
    "print(transition_graph)\n",
    "np.savetxt('outputLA/transition_probability_matrix.txt', transition_graph)"
   ]
  },
  {
   "cell_type": "code",
   "execution_count": null,
   "metadata": {},
   "outputs": [],
   "source": [
    "trans_proba_with_id(graph, adjacency_matrix)"
   ]
  },
  {
   "cell_type": "code",
   "execution_count": null,
   "metadata": {},
   "outputs": [],
   "source": [
    "FPT, CT = matrice_FPT_et_CT(transition_graph)\n",
    "np.savetxt('outputLA/FPT_matrix.txt', FPT)\n",
    "np.savetxt('outputLA/CT_matrix.txt', CT)"
   ]
  },
  {
   "cell_type": "code",
   "execution_count": null,
   "metadata": {},
   "outputs": [],
   "source": [
    "node1 = 1056 #insérez les valeurs\n",
    "node2 = 1109\n",
    "\n",
    "fpt_value, ct_value = fpt_ct_between_nodes(FPT, CT, node1, node2)\n",
    "print(f\"FPT entre les nœuds {node1} et {node2} : {fpt_value}\")\n",
    "print(f\"CT entre les nœuds {node1} et {node2} : {ct_value}\")"
   ]
  },
  {
   "cell_type": "code",
   "execution_count": 129,
   "metadata": {},
   "outputs": [],
   "source": [
    "with open('outputgml/graph.gml', 'r', encoding='utf-8') as f:\n",
    "    graph = nx.parse_gml(f)\n",
    "hub_scores, authority_scores = nx.hits(graph)\n",
    "np.savetxt('outputLA/hub_scores.txt', list(hub_scores.values()))\n",
    "np.savetxt('outputLA/authority_scores.txt', list(authority_scores.values()))"
   ]
  }
 ],
 "metadata": {
  "kernelspec": {
   "display_name": ".venv",
   "language": "python",
   "name": "python3"
  },
  "language_info": {
   "codemirror_mode": {
    "name": "ipython",
    "version": 3
   },
   "file_extension": ".py",
   "mimetype": "text/x-python",
   "name": "python",
   "nbconvert_exporter": "python",
   "pygments_lexer": "ipython3",
   "version": "3.11.2"
  }
 },
 "nbformat": 4,
 "nbformat_minor": 2
}
